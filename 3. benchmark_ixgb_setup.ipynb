{
 "cells": [
  {
   "cell_type": "markdown",
   "metadata": {},
   "source": [
    "### Setup virtual environment for intel XGB (one time job)"
   ]
  },
  {
   "cell_type": "code",
   "execution_count": null,
   "metadata": {},
   "outputs": [],
   "source": [
    "%mkdir ~/ml_workshop/onedal"
   ]
  },
  {
   "cell_type": "code",
   "execution_count": 1,
   "metadata": {},
   "outputs": [
    {
     "name": "stdout",
     "output_type": "stream",
     "text": [
      "/home/u58475/ml_workshop\n"
     ]
    }
   ],
   "source": [
    "%cd ~/ml_workshop"
   ]
  },
  {
   "cell_type": "code",
   "execution_count": 36,
   "metadata": {},
   "outputs": [
    {
     "name": "stdout",
     "output_type": "stream",
     "text": [
      "Writing setupenv_ixgb.sh\n"
     ]
    }
   ],
   "source": [
    "%%writefile setupenv_ixgb.sh\n",
    "# uninstall old xgboost\n",
    "pip uninstall xgboost\n",
    "#remove any old envuronments\n",
    "rm -rf onedal\n",
    "# create virtual environment for intel xgb\n",
    "python -m venv onedal\n",
    "# activate it\n",
    "source onedal/bin/activate\n",
    "# install xgboost\n",
    "pip install xgboost==1.1 \n",
    "pip install pandas\n",
    "# check xgboost version\n",
    "python -c \"import xgboost; print('xgboost ',xgboost.__version__, 'installed successfully')\"\n",
    "# deactivate the virtual environment\n",
    "deactivate"
   ]
  },
  {
   "cell_type": "code",
   "execution_count": 37,
   "metadata": {},
   "outputs": [
    {
     "name": "stdout",
     "output_type": "stream",
     "text": [
      "# uninstall old xgboost\n",
      "pip uninstall xgboost\n",
      "#remove any old envuronments\n",
      "rm -rf onedal\n",
      "# create virtual environment for intel xgb\n",
      "python -m venv onedal\n",
      "# activate it\n",
      "source onedal/bin/activate\n",
      "# install xgboost\n",
      "pip install xgboost==1.1 \n",
      "pip install pandas\n",
      "# check xgboost version\n",
      "python -c \"import xgboost; print('xgboost ',xgboost.__version__, 'installed successfully')\"\n",
      "# deactivate the virtual environment\n",
      "deactivate\n"
     ]
    }
   ],
   "source": [
    "!cat setupenv_ixgb.sh"
   ]
  },
  {
   "cell_type": "markdown",
   "metadata": {},
   "source": [
    "### Submit to queue. "
   ]
  },
  {
   "cell_type": "code",
   "execution_count": 38,
   "metadata": {},
   "outputs": [
    {
     "name": "stdout",
     "output_type": "stream",
     "text": [
      "783728.v-qsvr-1.aidevcloud\n"
     ]
    }
   ],
   "source": [
    "!qsub setupenv_ixgb.sh -l nodes=1:ppn=2 -d ."
   ]
  },
  {
   "cell_type": "markdown",
   "metadata": {},
   "source": [
    "### check Job status"
   ]
  },
  {
   "cell_type": "code",
   "execution_count": 42,
   "metadata": {},
   "outputs": [
    {
     "name": "stdout",
     "output_type": "stream",
     "text": [
      "Job ID                    Name             User            Time Use S Queue\n",
      "------------------------- ---------------- --------------- -------- - -----\n",
      "783597.v-qsvr-1            ...ub-singleuser u58475          00:00:39 R jupyterhub     \n"
     ]
    }
   ],
   "source": [
    "!qstat"
   ]
  },
  {
   "cell_type": "code",
   "execution_count": 43,
   "metadata": {},
   "outputs": [
    {
     "name": "stdout",
     "output_type": "stream",
     "text": [
      "xgboost  1.1.0 installed successfully\n"
     ]
    }
   ],
   "source": [
    "!grep -e \"successfully\" setupenv_ixgb.sh.o*"
   ]
  },
  {
   "cell_type": "code",
   "execution_count": 44,
   "metadata": {},
   "outputs": [],
   "source": [
    "!rm -rf setupenv.sh.*"
   ]
  },
  {
   "cell_type": "code",
   "execution_count": 45,
   "metadata": {},
   "outputs": [
    {
     "name": "stdout",
     "output_type": "stream",
     "text": [
      "\n",
      "########################################################################\n",
      "#      Date:           Thu Jan 21 23:56:48 PST 2021\n",
      "#    Job ID:           783728.v-qsvr-1.aidevcloud\n",
      "#      User:           u58475\n",
      "# Resources:           neednodes=1:ppn=2,nodes=1:ppn=2,walltime=06:00:00\n",
      "########################################################################\n",
      "\n",
      "Found existing installation: xgboost 0.80\n",
      "Uninstalling xgboost-0.80:\n",
      "  Would remove:\n",
      "    /home/u58475/.local/lib/python3.7/site-packages/xgboost-0.80.dist-info/*\n",
      "    /home/u58475/.local/lib/python3.7/site-packages/xgboost/*\n",
      "    /home/u58475/.local/xgboost/libxgboost.so\n",
      "Proceed (y/n)? Collecting xgboost==1.1\n",
      "  Using cached xgboost-1.1.0-py3-none-manylinux2010_x86_64.whl (127.6 MB)\n",
      "Collecting scipy\n",
      "  Using cached scipy-1.6.0-cp37-cp37m-manylinux1_x86_64.whl (27.4 MB)\n",
      "Collecting numpy\n",
      "  Using cached numpy-1.19.5-cp37-cp37m-manylinux2010_x86_64.whl (14.8 MB)\n",
      "Installing collected packages: numpy, scipy, xgboost\n",
      "Successfully installed numpy-1.19.5 scipy-1.6.0 xgboost-1.1.0\n",
      "Collecting pandas\n",
      "  Using cached pandas-1.2.1-cp37-cp37m-manylinux1_x86_64.whl (9.9 MB)\n",
      "Requirement already satisfied: numpy>=1.16.5 in ./onedal/lib/python3.7/site-packages (from pandas) (1.19.5)\n",
      "Collecting pytz>=2017.3\n",
      "  Using cached pytz-2020.5-py2.py3-none-any.whl (510 kB)\n",
      "Collecting python-dateutil>=2.7.3\n",
      "  Using cached python_dateutil-2.8.1-py2.py3-none-any.whl (227 kB)\n",
      "Collecting six>=1.5\n",
      "  Using cached six-1.15.0-py2.py3-none-any.whl (10 kB)\n",
      "Installing collected packages: pytz, six, python-dateutil, pandas\n",
      "Successfully installed pandas-1.2.1 python-dateutil-2.8.1 pytz-2020.5 six-1.15.0\n",
      "xgboost  1.1.0 installed successfully\n",
      "\n",
      "########################################################################\n",
      "# End of output for job 783728.v-qsvr-1.aidevcloud\n",
      "# Date: Fri Jan 22 00:00:37 PST 2021\n",
      "########################################################################\n",
      "\n"
     ]
    }
   ],
   "source": [
    "!cat setupenv_ixgb.sh.o*"
   ]
  }
 ],
 "metadata": {
  "kernelspec": {
   "display_name": "Python 3.7 (Intel® oneAPI)",
   "language": "python",
   "name": "c009-intel_distribution_of_python_3_oneapi-beta05-python"
  },
  "language_info": {
   "codemirror_mode": {
    "name": "ipython",
    "version": 3
   },
   "file_extension": ".py",
   "mimetype": "text/x-python",
   "name": "python",
   "nbconvert_exporter": "python",
   "pygments_lexer": "ipython3",
   "version": "3.7.9"
  }
 },
 "nbformat": 4,
 "nbformat_minor": 4
}
